{
 "cells": [
  {
   "cell_type": "markdown",
   "metadata": {},
   "source": [
    "# Import libraries"
   ]
  },
  {
   "cell_type": "code",
   "execution_count": 5,
   "metadata": {},
   "outputs": [],
   "source": [
    "import numpy as np\n",
    "import matplotlib.pyplot as plt\n",
    "import lasio\n",
    "\n",
    "from sklearn.linear_model import LinearRegression"
   ]
  },
  {
   "cell_type": "markdown",
   "metadata": {},
   "source": [
    "# Supprt functions"
   ]
  },
  {
   "cell_type": "code",
   "execution_count": 47,
   "metadata": {},
   "outputs": [],
   "source": [
    "def ismember(A, B):\n",
    "    return [ np.sum(a == B) for a in A ]"
   ]
  },
  {
   "cell_type": "markdown",
   "metadata": {},
   "source": [
    "# Loading las file"
   ]
  },
  {
   "cell_type": "code",
   "execution_count": 25,
   "metadata": {},
   "outputs": [],
   "source": [
    "dataFolderName = \"las_files\"\n",
    "lasFileName    = \"2F19_08-_1_jwl_JWL_FILE_243939324.las\"\n",
    "fullFileName = dataFolderName + '/' + lasFileName\n",
    "fullFileName\n",
    "las = lasio.read(fullFileName);"
   ]
  },
  {
   "cell_type": "code",
   "execution_count": 27,
   "metadata": {},
   "outputs": [
    {
     "data": {
      "text/plain": [
       "['DEPTH',\n",
       " 'DTC',\n",
       " 'DTS',\n",
       " 'GR',\n",
       " 'K',\n",
       " 'KTH',\n",
       " 'RD',\n",
       " 'RM',\n",
       " 'RS',\n",
       " 'RTHK',\n",
       " 'RTHU',\n",
       " 'RUK',\n",
       " 'TH',\n",
       " 'UR']"
      ]
     },
     "execution_count": 27,
     "metadata": {},
     "output_type": "execute_result"
    }
   ],
   "source": [
    "las.keys()"
   ]
  },
  {
   "cell_type": "code",
   "execution_count": 48,
   "metadata": {},
   "outputs": [],
   "source": [
    "selectedLogs = {'GR', 'DTC', 'DTS', 'RM', 'RUK'}\n",
    "minDepth     =  0\n",
    "maxDepth     =  10000\n",
    "nullValue    = -999.2500 \n",
    "\n",
    "depth = las['DEPTH'];\n",
    "selectedDepth = np.logical_and(depth >= minDepth, depth <= maxDepth);\n",
    "\n",
    "selectedLogs = ismember(las.keys(), selectedLogs)\n",
    "\n",
    "selectedData = las.data[selectedIndex, :]\n",
    "selectedData = selectedData[~np.isnan(selectedData).any(axis=1)];"
   ]
  },
  {
   "cell_type": "code",
   "execution_count": null,
   "metadata": {},
   "outputs": [],
   "source": []
  }
 ],
 "metadata": {
  "kernelspec": {
   "display_name": "Python 3",
   "language": "python",
   "name": "python3"
  },
  "language_info": {
   "codemirror_mode": {
    "name": "ipython",
    "version": 3
   },
   "file_extension": ".py",
   "mimetype": "text/x-python",
   "name": "python",
   "nbconvert_exporter": "python",
   "pygments_lexer": "ipython3",
   "version": "3.6.4"
  }
 },
 "nbformat": 4,
 "nbformat_minor": 2
}
