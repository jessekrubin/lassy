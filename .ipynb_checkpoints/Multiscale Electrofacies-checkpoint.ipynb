{
 "cells": [
  {
   "cell_type": "markdown",
   "metadata": {},
   "source": [
    "# Import libraries"
   ]
  },
  {
   "cell_type": "code",
   "execution_count": 5,
   "metadata": {},
   "outputs": [],
   "source": [
    "import numpy as np\n",
    "import matplotlib.pyplot as plt\n",
    "import lasio\n",
    "\n",
    "from sklearn.linear_model import LinearRegression"
   ]
  },
  {
   "cell_type": "markdown",
   "metadata": {},
   "source": [
    "# Supprt functions"
   ]
  },
  {
   "cell_type": "code",
   "execution_count": 46,
   "metadata": {},
   "outputs": [],
   "source": [
    "def ismember(A, B):\n",
    "    return [ np.sum(a == B) for a in A ]"
   ]
  },
  {
   "cell_type": "markdown",
   "metadata": {},
   "source": [
    "# Loading las file"
   ]
  },
  {
   "cell_type": "code",
   "execution_count": 25,
   "metadata": {},
   "outputs": [],
   "source": [
    "dataFolderName = \"las_files\"\n",
    "lasFileName    = \"2F19_08-_1_jwl_JWL_FILE_243939324.las\"\n",
    "fullFileName = dataFolderName + '/' + lasFileName\n",
    "fullFileName\n",
    "las = lasio.read(fullFileName);"
   ]
  },
  {
   "cell_type": "code",
   "execution_count": 27,
   "metadata": {},
   "outputs": [
    {
     "data": {
      "text/plain": [
       "['DEPTH',\n",
       " 'DTC',\n",
       " 'DTS',\n",
       " 'GR',\n",
       " 'K',\n",
       " 'KTH',\n",
       " 'RD',\n",
       " 'RM',\n",
       " 'RS',\n",
       " 'RTHK',\n",
       " 'RTHU',\n",
       " 'RUK',\n",
       " 'TH',\n",
       " 'UR']"
      ]
     },
     "execution_count": 27,
     "metadata": {},
     "output_type": "execute_result"
    }
   ],
   "source": [
    "las.keys()"
   ]
  },
  {
   "cell_type": "code",
   "execution_count": 45,
   "metadata": {},
   "outputs": [
    {
     "data": {
      "text/plain": [
       "array([[1.12550e+03, 1.57301e+02, 7.23082e+02, ..., 5.90000e-02,\n",
       "        3.39800e+00, 2.81000e-01],\n",
       "       [1.12600e+03, 1.54865e+02, 6.68473e+02, ..., 5.20000e-02,\n",
       "        3.01900e+00, 2.51000e-01],\n",
       "       [1.12650e+03, 1.52598e+02, 6.33366e+02, ..., 4.20000e-02,\n",
       "        2.74700e+00, 2.05000e-01],\n",
       "       ...,\n",
       "       [2.70700e+03, 1.05185e+02, 2.48321e+02, ..., 2.70000e-02,\n",
       "        5.29300e+00, 1.17000e-01],\n",
       "       [2.70750e+03, 1.03950e+02, 2.37781e+02, ..., 2.90000e-02,\n",
       "        5.24500e+00, 1.28000e-01],\n",
       "       [2.70800e+03, 1.03229e+02, 2.33361e+02, ..., 3.10000e-02,\n",
       "        5.10500e+00, 1.37000e-01]])"
      ]
     },
     "execution_count": 45,
     "metadata": {},
     "output_type": "execute_result"
    }
   ],
   "source": [
    "selectedLogs = {'GR', 'DTC', 'DTS', 'RM', 'RUK'}\n",
    "minDepth     =  0\n",
    "maxDepth     = 10000\n",
    "\n",
    "depth = las['DEPTH'];\n",
    "selectedIndex = np.logical_and(depth >= minDepth, depth <= maxDepth);\n",
    "\n",
    "selectedData = las.data[selectedIndex, :]\n",
    "selectedData = selectedData[~np.isnan(selectedData).any(axis=1)]"
   ]
  }
 ],
 "metadata": {
  "kernelspec": {
   "display_name": "Python 3",
   "language": "python",
   "name": "python3"
  },
  "language_info": {
   "codemirror_mode": {
    "name": "ipython",
    "version": 3
   },
   "file_extension": ".py",
   "mimetype": "text/x-python",
   "name": "python",
   "nbconvert_exporter": "python",
   "pygments_lexer": "ipython3",
   "version": "3.6.4"
  }
 },
 "nbformat": 4,
 "nbformat_minor": 2
}
